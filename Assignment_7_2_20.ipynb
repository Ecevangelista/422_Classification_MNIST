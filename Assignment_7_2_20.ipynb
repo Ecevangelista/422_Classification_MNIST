{
  "nbformat": 4,
  "nbformat_minor": 0,
  "metadata": {
    "colab": {
      "name": "Assignment 7_2_20.ipynb",
      "provenance": [],
      "toc_visible": true,
      "authorship_tag": "ABX9TyPcxm2i6QWeKg9K5N5XSpuy",
      "include_colab_link": true
    },
    "kernelspec": {
      "name": "python3",
      "display_name": "Python 3"
    },
    "language_info": {
      "name": "python"
    }
  },
  "cells": [
    {
      "cell_type": "markdown",
      "metadata": {
        "id": "view-in-github",
        "colab_type": "text"
      },
      "source": [
        "<a href=\"https://colab.research.google.com/github/Ecevangelista/422_Classification_MNIST/blob/main/Assignment_7_2_20.ipynb\" target=\"_parent\"><img src=\"https://colab.research.google.com/assets/colab-badge.svg\" alt=\"Open In Colab\"/></a>"
      ]
    },
    {
      "cell_type": "code",
      "execution_count": 1,
      "metadata": {
        "colab": {
          "base_uri": "https://localhost:8080/"
        },
        "id": "v2ydq2ifksoj",
        "outputId": "dc2e65fd-7b62-4c27-db9d-96d1c34e2cc1"
      },
      "outputs": [
        {
          "output_type": "stream",
          "name": "stderr",
          "text": [
            "/usr/local/lib/python3.7/dist-packages/statsmodels/tools/_testing.py:19: FutureWarning: pandas.util.testing is deprecated. Use the functions in the public API at pandas.testing instead.\n",
            "  import pandas.util.testing as tm\n"
          ]
        }
      ],
      "source": [
        "import pandas as pd\n",
        "import matplotlib\n",
        "from matplotlib import pyplot as plt\n",
        "import matplotlib.cm as cm\n",
        "import seaborn as sns\n",
        "import statistics\n",
        "import numpy as np\n",
        "from numpy import arange\n",
        "import statsmodels\n",
        "import statsmodels.api as sm\n",
        "from scipy.stats import norm,uniform, reciprocal\n",
        "from sklearn.metrics import accuracy_score, confusion_matrix, roc_curve, PrecisionRecallDisplay, f1_score, precision_score, recall_score, classification_report, multilabel_confusion_matrix\n",
        "from sklearn.model_selection import train_test_split, KFold, cross_val_score, GridSearchCV, RandomizedSearchCV\n",
        "from sklearn.pipeline import Pipeline\n",
        "from sklearn.compose import ColumnTransformer\n",
        "from sklearn.ensemble import RandomForestClassifier \n",
        "from sklearn.preprocessing import StandardScaler, scale\n",
        "import tensorflow as tf\n",
        "from tensorflow import keras\n",
        "import tensorflow_datasets as tfds\n",
        "from datetime import datetime"
      ]
    },
    {
      "cell_type": "markdown",
      "source": [
        "# Ingest"
      ],
      "metadata": {
        "id": "sT0AOe0Zk8vM"
      }
    },
    {
      "cell_type": "code",
      "source": [
        "from google.colab import drive, files\n",
        "drive.mount('/content/drive')"
      ],
      "metadata": {
        "colab": {
          "base_uri": "https://localhost:8080/"
        },
        "id": "XpHqqINWk0M0",
        "outputId": "fa452f92-cecd-426e-ec01-b8b1a21b21f9"
      },
      "execution_count": 2,
      "outputs": [
        {
          "output_type": "stream",
          "name": "stdout",
          "text": [
            "Mounted at /content/drive\n"
          ]
        }
      ]
    },
    {
      "cell_type": "code",
      "source": [
        "path = \"drive/MyDrive/422NU/MNIST_train.csv\"\n",
        "df = pd.read_csv(path)"
      ],
      "metadata": {
        "id": "LIorgzudk0VU"
      },
      "execution_count": 3,
      "outputs": []
    },
    {
      "cell_type": "code",
      "source": [
        "df1train = df.copy(deep = True)"
      ],
      "metadata": {
        "id": "y_ulZxzXlxhN"
      },
      "execution_count": 4,
      "outputs": []
    },
    {
      "cell_type": "markdown",
      "source": [
        "# EDA and Preprocessing"
      ],
      "metadata": {
        "id": "1qS9bUkFl3o1"
      }
    },
    {
      "cell_type": "code",
      "source": [
        "#split df into test and train\n",
        "X_train_full = df1train.drop(columns = ['label'])\n",
        "y_train_full = df1train['label']"
      ],
      "metadata": {
        "id": "HsLzVP32lxoc"
      },
      "execution_count": 5,
      "outputs": []
    },
    {
      "cell_type": "code",
      "source": [
        "#Split train data set into train, validation, test\n",
        "\n",
        "X_train_fulla, X_testa, y_train_fulla, y_testa = train_test_split(X_train_full, y_train_full, test_size = 0.2, random_state = 10)\n",
        "\n",
        "X_train, X_valid, y_train, y_valid =train_test_split(X_train_fulla, y_train_fulla, test_size = 0.2, random_state = 10)"
      ],
      "metadata": {
        "id": "hrvbV2nslxv0"
      },
      "execution_count": 6,
      "outputs": []
    },
    {
      "cell_type": "code",
      "source": [
        "X_train.shape"
      ],
      "metadata": {
        "colab": {
          "base_uri": "https://localhost:8080/"
        },
        "id": "HpgzykvYl88z",
        "outputId": "30b6cd2a-eea4-4d24-c401-b412827230c9"
      },
      "execution_count": 7,
      "outputs": [
        {
          "output_type": "execute_result",
          "data": {
            "text/plain": [
              "(26880, 784)"
            ]
          },
          "metadata": {},
          "execution_count": 7
        }
      ]
    },
    {
      "cell_type": "code",
      "source": [
        "X_valid.shape"
      ],
      "metadata": {
        "colab": {
          "base_uri": "https://localhost:8080/"
        },
        "id": "WamXxmMkl9Aj",
        "outputId": "d8cb79f8-bd2e-41ba-991f-2727408fc5bd"
      },
      "execution_count": 8,
      "outputs": [
        {
          "output_type": "execute_result",
          "data": {
            "text/plain": [
              "(6720, 784)"
            ]
          },
          "metadata": {},
          "execution_count": 8
        }
      ]
    },
    {
      "cell_type": "code",
      "source": [
        "X_testa.shape"
      ],
      "metadata": {
        "colab": {
          "base_uri": "https://localhost:8080/"
        },
        "id": "Rwf3C1ZzmBbU",
        "outputId": "edb43ab4-923f-4cb6-8af4-dc1166ddd5cd"
      },
      "execution_count": 9,
      "outputs": [
        {
          "output_type": "execute_result",
          "data": {
            "text/plain": [
              "(8400, 784)"
            ]
          },
          "metadata": {},
          "execution_count": 9
        }
      ]
    },
    {
      "cell_type": "code",
      "source": [
        "#scaling the training, validation and test sets to work with keras\n",
        "\n",
        "X_train = (X_train[:26880]/255.0)\n",
        "X_valid = (X_valid[:6720]/255.0)\n",
        "X_test = (X_testa[:8400]/255.0)"
      ],
      "metadata": {
        "id": "bjZROZhsmBey"
      },
      "execution_count": 10,
      "outputs": []
    },
    {
      "cell_type": "code",
      "source": [
        ""
      ],
      "metadata": {
        "id": "8MYThUlnmOjd"
      },
      "execution_count": null,
      "outputs": []
    },
    {
      "cell_type": "markdown",
      "source": [
        "# Model 1:  1 layer/100 nodes"
      ],
      "metadata": {
        "id": "wTNCRHTxmRKU"
      }
    },
    {
      "cell_type": "code",
      "source": [
        "model_100a = tf.keras.Sequential([\n",
        "    tf.keras.layers.Flatten(input_shape=X_train.shape[1:]),\n",
        "    tf.keras.layers.Dense(100, activation='relu'),\n",
        "    tf.keras.layers.Dense(10, activation = \"softmax\")\n",
        "])\n"
      ],
      "metadata": {
        "id": "_JL6aCWNmOn8"
      },
      "execution_count": 11,
      "outputs": []
    },
    {
      "cell_type": "code",
      "source": [
        "model_100a.compile(optimizer='adam',\n",
        "              loss=tf.keras.losses.SparseCategoricalCrossentropy(from_logits=False),\n",
        "              metrics=['accuracy'])"
      ],
      "metadata": {
        "id": "EDWK1c3RmZr1"
      },
      "execution_count": 12,
      "outputs": []
    },
    {
      "cell_type": "code",
      "source": [
        "start = datetime.now()\n",
        "\n",
        "model_100a.fit(X_train, y_train, epochs = 30, \n",
        "          validation_data = (X_valid, y_valid))\n",
        "\n",
        "end = datetime.now()\n",
        "print(\"Script run time:\", end-start)"
      ],
      "metadata": {
        "colab": {
          "base_uri": "https://localhost:8080/"
        },
        "id": "w4mhu3c_mZzk",
        "outputId": "0884d22e-0197-4dff-af64-c848d723fe2b"
      },
      "execution_count": 13,
      "outputs": [
        {
          "output_type": "stream",
          "name": "stdout",
          "text": [
            "Epoch 1/30\n",
            "840/840 [==============================] - 6s 6ms/step - loss: 0.3741 - accuracy: 0.8952 - val_loss: 0.2478 - val_accuracy: 0.9284\n",
            "Epoch 2/30\n",
            "840/840 [==============================] - 3s 4ms/step - loss: 0.1752 - accuracy: 0.9499 - val_loss: 0.1761 - val_accuracy: 0.9513\n",
            "Epoch 3/30\n",
            "840/840 [==============================] - 3s 3ms/step - loss: 0.1253 - accuracy: 0.9621 - val_loss: 0.1450 - val_accuracy: 0.9606\n",
            "Epoch 4/30\n",
            "840/840 [==============================] - 2s 3ms/step - loss: 0.0940 - accuracy: 0.9732 - val_loss: 0.1339 - val_accuracy: 0.9613\n",
            "Epoch 5/30\n",
            "840/840 [==============================] - 3s 3ms/step - loss: 0.0723 - accuracy: 0.9786 - val_loss: 0.1233 - val_accuracy: 0.9655\n",
            "Epoch 6/30\n",
            "840/840 [==============================] - 3s 4ms/step - loss: 0.0563 - accuracy: 0.9836 - val_loss: 0.1282 - val_accuracy: 0.9655\n",
            "Epoch 7/30\n",
            "840/840 [==============================] - 3s 3ms/step - loss: 0.0454 - accuracy: 0.9867 - val_loss: 0.1178 - val_accuracy: 0.9692\n",
            "Epoch 8/30\n",
            "840/840 [==============================] - 3s 3ms/step - loss: 0.0376 - accuracy: 0.9894 - val_loss: 0.1197 - val_accuracy: 0.9676\n",
            "Epoch 9/30\n",
            "840/840 [==============================] - 4s 4ms/step - loss: 0.0296 - accuracy: 0.9924 - val_loss: 0.1250 - val_accuracy: 0.9688\n",
            "Epoch 10/30\n",
            "840/840 [==============================] - 3s 4ms/step - loss: 0.0227 - accuracy: 0.9940 - val_loss: 0.1311 - val_accuracy: 0.9685\n",
            "Epoch 11/30\n",
            "840/840 [==============================] - 3s 3ms/step - loss: 0.0193 - accuracy: 0.9951 - val_loss: 0.1254 - val_accuracy: 0.9670\n",
            "Epoch 12/30\n",
            "840/840 [==============================] - 2s 3ms/step - loss: 0.0143 - accuracy: 0.9971 - val_loss: 0.1359 - val_accuracy: 0.9690\n",
            "Epoch 13/30\n",
            "840/840 [==============================] - 3s 3ms/step - loss: 0.0147 - accuracy: 0.9964 - val_loss: 0.1303 - val_accuracy: 0.9674\n",
            "Epoch 14/30\n",
            "840/840 [==============================] - 2s 3ms/step - loss: 0.0120 - accuracy: 0.9974 - val_loss: 0.1467 - val_accuracy: 0.9670\n",
            "Epoch 15/30\n",
            "840/840 [==============================] - 2s 3ms/step - loss: 0.0093 - accuracy: 0.9980 - val_loss: 0.1379 - val_accuracy: 0.9680\n",
            "Epoch 16/30\n",
            "840/840 [==============================] - 3s 3ms/step - loss: 0.0082 - accuracy: 0.9981 - val_loss: 0.1432 - val_accuracy: 0.9685\n",
            "Epoch 17/30\n",
            "840/840 [==============================] - 3s 3ms/step - loss: 0.0065 - accuracy: 0.9987 - val_loss: 0.1501 - val_accuracy: 0.9674\n",
            "Epoch 18/30\n",
            "840/840 [==============================] - 2s 3ms/step - loss: 0.0081 - accuracy: 0.9982 - val_loss: 0.1587 - val_accuracy: 0.9674\n",
            "Epoch 19/30\n",
            "840/840 [==============================] - 2s 3ms/step - loss: 0.0071 - accuracy: 0.9981 - val_loss: 0.1612 - val_accuracy: 0.9659\n",
            "Epoch 20/30\n",
            "840/840 [==============================] - 2s 3ms/step - loss: 0.0034 - accuracy: 0.9994 - val_loss: 0.1572 - val_accuracy: 0.9670\n",
            "Epoch 21/30\n",
            "840/840 [==============================] - 2s 3ms/step - loss: 0.0014 - accuracy: 1.0000 - val_loss: 0.1593 - val_accuracy: 0.9686\n",
            "Epoch 22/30\n",
            "840/840 [==============================] - 3s 4ms/step - loss: 0.0069 - accuracy: 0.9978 - val_loss: 0.2000 - val_accuracy: 0.9632\n",
            "Epoch 23/30\n",
            "840/840 [==============================] - 3s 4ms/step - loss: 0.0080 - accuracy: 0.9973 - val_loss: 0.1604 - val_accuracy: 0.9710\n",
            "Epoch 24/30\n",
            "840/840 [==============================] - 3s 3ms/step - loss: 0.0017 - accuracy: 0.9998 - val_loss: 0.1694 - val_accuracy: 0.9695\n",
            "Epoch 25/30\n",
            "840/840 [==============================] - 3s 3ms/step - loss: 7.8979e-04 - accuracy: 1.0000 - val_loss: 0.1609 - val_accuracy: 0.9717\n",
            "Epoch 26/30\n",
            "840/840 [==============================] - 3s 4ms/step - loss: 4.4732e-04 - accuracy: 1.0000 - val_loss: 0.1631 - val_accuracy: 0.9711\n",
            "Epoch 27/30\n",
            "840/840 [==============================] - 3s 3ms/step - loss: 3.8796e-04 - accuracy: 1.0000 - val_loss: 0.1660 - val_accuracy: 0.9704\n",
            "Epoch 28/30\n",
            "840/840 [==============================] - 3s 3ms/step - loss: 0.0096 - accuracy: 0.9968 - val_loss: 0.2420 - val_accuracy: 0.9591\n",
            "Epoch 29/30\n",
            "840/840 [==============================] - 3s 3ms/step - loss: 0.0074 - accuracy: 0.9976 - val_loss: 0.1790 - val_accuracy: 0.9683\n",
            "Epoch 30/30\n",
            "840/840 [==============================] - 2s 3ms/step - loss: 7.5411e-04 - accuracy: 1.0000 - val_loss: 0.1718 - val_accuracy: 0.9711\n",
            "Script run time: 0:02:23.358940\n"
          ]
        }
      ]
    },
    {
      "cell_type": "code",
      "source": [
        "#Evaluate on train set\n",
        "\n",
        "model_100a.evaluate(X_train, y_train)"
      ],
      "metadata": {
        "colab": {
          "base_uri": "https://localhost:8080/"
        },
        "id": "CYc6oN47mhTE",
        "outputId": "2bb1bc5f-7cab-49d2-accd-ed1f481c13b9"
      },
      "execution_count": 14,
      "outputs": [
        {
          "output_type": "stream",
          "name": "stdout",
          "text": [
            "840/840 [==============================] - 2s 2ms/step - loss: 4.4952e-04 - accuracy: 1.0000\n"
          ]
        },
        {
          "output_type": "execute_result",
          "data": {
            "text/plain": [
              "[0.0004495214088819921, 1.0]"
            ]
          },
          "metadata": {},
          "execution_count": 14
        }
      ]
    },
    {
      "cell_type": "code",
      "source": [
        "#Evaluate on test set\n",
        "\n",
        "model_100a.evaluate(X_test, y_testa)"
      ],
      "metadata": {
        "colab": {
          "base_uri": "https://localhost:8080/"
        },
        "id": "QzXq0R9JmhaE",
        "outputId": "c2f72a83-810d-4bbd-f25a-89e3ca5d92d9"
      },
      "execution_count": 15,
      "outputs": [
        {
          "output_type": "stream",
          "name": "stdout",
          "text": [
            "263/263 [==============================] - 1s 4ms/step - loss: 0.1270 - accuracy: 0.9731\n"
          ]
        },
        {
          "output_type": "execute_result",
          "data": {
            "text/plain": [
              "[0.12704618275165558, 0.9730952382087708]"
            ]
          },
          "metadata": {},
          "execution_count": 15
        }
      ]
    },
    {
      "cell_type": "code",
      "source": [
        "#PREDICTIONS\n",
        "\n",
        "probability_model_100a = tf.keras.Sequential([model_100a, tf.keras.layers.Softmax()])"
      ],
      "metadata": {
        "id": "q9GxN_MYmhft"
      },
      "execution_count": 16,
      "outputs": []
    },
    {
      "cell_type": "code",
      "source": [
        "#GETTING CLASS PREDICTIONS WITH ARGMAX\n",
        "\n",
        "pred_100a = probability_model_100a.predict(X_test)\n",
        "\n",
        "classes_100a = np.argmax(pred_100a, axis = 1)"
      ],
      "metadata": {
        "id": "OPWOED8GmnMk"
      },
      "execution_count": 17,
      "outputs": []
    },
    {
      "cell_type": "code",
      "source": [
        "classes_100a[:5]"
      ],
      "metadata": {
        "colab": {
          "base_uri": "https://localhost:8080/"
        },
        "id": "laixun8tmnTz",
        "outputId": "8d237c84-3a1c-43d1-e0f6-4923e7df3cc5"
      },
      "execution_count": 18,
      "outputs": [
        {
          "output_type": "execute_result",
          "data": {
            "text/plain": [
              "array([7, 3, 9, 8, 6])"
            ]
          },
          "metadata": {},
          "execution_count": 18
        }
      ]
    },
    {
      "cell_type": "code",
      "source": [
        "#multiclass confusion matrix 100a\n",
        "cm100a = confusion_matrix(y_testa, classes_100a)"
      ],
      "metadata": {
        "id": "kc4riysznGE7"
      },
      "execution_count": 19,
      "outputs": []
    },
    {
      "cell_type": "code",
      "source": [
        "#create data frame for multi-class confusion matrix 100a\n",
        "\n",
        "cm100a_df = pd.DataFrame(cm100a, index = [0,1,2,3,4,5,6,7,8,9], columns = [0,1,2,3,4,5,6,7,8,9])\n",
        "print(cm100a_df)"
      ],
      "metadata": {
        "colab": {
          "base_uri": "https://localhost:8080/"
        },
        "id": "wBkMLgV-nIvy",
        "outputId": "812563af-6653-40f0-f0f8-f07dabeb7ec4"
      },
      "execution_count": 20,
      "outputs": [
        {
          "output_type": "stream",
          "name": "stdout",
          "text": [
            "     0    1    2    3    4    5    6    7    8    9\n",
            "0  783    0    1    1    1    0    3    1    3    3\n",
            "1    0  930    3    3    3    0    0    3    4    0\n",
            "2    3    1  826    6    4    0    5    7    3    1\n",
            "3    2    0    3  836    0    5    0    1    8    1\n",
            "4    1    1    2    0  814    0    2    0    0    6\n",
            "5    1    0    2    5    1  739    8    1   15    1\n",
            "6    3    1    1    0    1    2  778    0    1    0\n",
            "7    4    2    6    3    2    2    0  846    0    4\n",
            "8    5    8    2    6    2    4    7    0  796    6\n",
            "9    0    0    1    8    9    3    0    7    1  826\n"
          ]
        }
      ]
    },
    {
      "cell_type": "code",
      "source": [
        "#LOOK AT CLASSIFICATION REPORT\n",
        "\n",
        "print(classification_report(y_testa, classes_100a))"
      ],
      "metadata": {
        "id": "Ch90OS_5nNAz"
      },
      "execution_count": null,
      "outputs": []
    },
    {
      "cell_type": "code",
      "source": [
        ""
      ],
      "metadata": {
        "id": "J5bC2pSMnNEL"
      },
      "execution_count": null,
      "outputs": []
    },
    {
      "cell_type": "markdown",
      "source": [
        "# Model 2: 1 layer/300 nodes"
      ],
      "metadata": {
        "id": "NOZqDwlroA50"
      }
    },
    {
      "cell_type": "code",
      "source": [
        "model_300a = tf.keras.Sequential([\n",
        "    tf.keras.layers.Flatten(input_shape=X_train.shape[1:]),\n",
        "    tf.keras.layers.Dense(300, activation='relu'),\n",
        "    tf.keras.layers.Dense(10, activation = \"softmax\")\n",
        "])"
      ],
      "metadata": {
        "id": "sEOknWt1oFPT"
      },
      "execution_count": 21,
      "outputs": []
    },
    {
      "cell_type": "code",
      "source": [
        "model_300a.compile(optimizer='adam',\n",
        "              loss=tf.keras.losses.SparseCategoricalCrossentropy(from_logits=False),\n",
        "              metrics=['accuracy'])"
      ],
      "metadata": {
        "id": "62lTilEjoFTF"
      },
      "execution_count": 22,
      "outputs": []
    },
    {
      "cell_type": "code",
      "source": [
        "start = datetime.now()\n",
        "\n",
        "model_300a.fit(X_train, y_train, epochs = 30, \n",
        "          validation_data = (X_valid, y_valid))\n",
        "\n",
        "end = datetime.now()\n",
        "print(\"Script run time:\", end-start)"
      ],
      "metadata": {
        "colab": {
          "base_uri": "https://localhost:8080/"
        },
        "id": "9Ut5SC8voFXc",
        "outputId": "bc1e7ab0-580a-4bf1-f6d7-33730bb7ec5a"
      },
      "execution_count": 23,
      "outputs": [
        {
          "output_type": "stream",
          "name": "stdout",
          "text": [
            "Epoch 1/30\n",
            "840/840 [==============================] - 5s 5ms/step - loss: 0.3034 - accuracy: 0.9133 - val_loss: 0.1809 - val_accuracy: 0.9454\n",
            "Epoch 2/30\n",
            "840/840 [==============================] - 4s 5ms/step - loss: 0.1277 - accuracy: 0.9610 - val_loss: 0.1322 - val_accuracy: 0.9628\n",
            "Epoch 3/30\n",
            "840/840 [==============================] - 4s 5ms/step - loss: 0.0798 - accuracy: 0.9759 - val_loss: 0.1228 - val_accuracy: 0.9652\n",
            "Epoch 4/30\n",
            "840/840 [==============================] - 5s 6ms/step - loss: 0.0559 - accuracy: 0.9832 - val_loss: 0.1210 - val_accuracy: 0.9637\n",
            "Epoch 5/30\n",
            "840/840 [==============================] - 5s 6ms/step - loss: 0.0396 - accuracy: 0.9883 - val_loss: 0.1148 - val_accuracy: 0.9686\n",
            "Epoch 6/30\n",
            "840/840 [==============================] - 5s 6ms/step - loss: 0.0303 - accuracy: 0.9904 - val_loss: 0.1132 - val_accuracy: 0.9702\n",
            "Epoch 7/30\n",
            "840/840 [==============================] - 6s 7ms/step - loss: 0.0215 - accuracy: 0.9941 - val_loss: 0.1291 - val_accuracy: 0.9659\n",
            "Epoch 8/30\n",
            "840/840 [==============================] - 4s 5ms/step - loss: 0.0160 - accuracy: 0.9954 - val_loss: 0.1244 - val_accuracy: 0.9722\n",
            "Epoch 9/30\n",
            "840/840 [==============================] - 5s 6ms/step - loss: 0.0125 - accuracy: 0.9968 - val_loss: 0.1407 - val_accuracy: 0.9677\n",
            "Epoch 10/30\n",
            "840/840 [==============================] - 4s 5ms/step - loss: 0.0116 - accuracy: 0.9968 - val_loss: 0.1291 - val_accuracy: 0.9726\n",
            "Epoch 11/30\n",
            "840/840 [==============================] - 4s 5ms/step - loss: 0.0119 - accuracy: 0.9961 - val_loss: 0.1299 - val_accuracy: 0.9711\n",
            "Epoch 12/30\n",
            "840/840 [==============================] - 5s 6ms/step - loss: 0.0090 - accuracy: 0.9975 - val_loss: 0.1311 - val_accuracy: 0.9729\n",
            "Epoch 13/30\n",
            "840/840 [==============================] - 4s 5ms/step - loss: 0.0045 - accuracy: 0.9992 - val_loss: 0.1431 - val_accuracy: 0.9699\n",
            "Epoch 14/30\n",
            "840/840 [==============================] - 4s 4ms/step - loss: 0.0060 - accuracy: 0.9984 - val_loss: 0.1280 - val_accuracy: 0.9740\n",
            "Epoch 15/30\n",
            "840/840 [==============================] - 4s 5ms/step - loss: 0.0101 - accuracy: 0.9967 - val_loss: 0.1484 - val_accuracy: 0.9720\n",
            "Epoch 16/30\n",
            "840/840 [==============================] - 4s 5ms/step - loss: 0.0069 - accuracy: 0.9976 - val_loss: 0.1405 - val_accuracy: 0.9737\n",
            "Epoch 17/30\n",
            "840/840 [==============================] - 7s 9ms/step - loss: 0.0019 - accuracy: 0.9997 - val_loss: 0.1528 - val_accuracy: 0.9731\n",
            "Epoch 18/30\n",
            "840/840 [==============================] - 6s 8ms/step - loss: 4.4776e-04 - accuracy: 1.0000 - val_loss: 0.1387 - val_accuracy: 0.9747\n",
            "Epoch 19/30\n",
            "840/840 [==============================] - 6s 7ms/step - loss: 1.9587e-04 - accuracy: 1.0000 - val_loss: 0.1396 - val_accuracy: 0.9747\n",
            "Epoch 20/30\n",
            "840/840 [==============================] - 5s 6ms/step - loss: 1.2906e-04 - accuracy: 1.0000 - val_loss: 0.1426 - val_accuracy: 0.9756\n",
            "Epoch 21/30\n",
            "840/840 [==============================] - 4s 4ms/step - loss: 1.0124e-04 - accuracy: 1.0000 - val_loss: 0.1450 - val_accuracy: 0.9741\n",
            "Epoch 22/30\n",
            "840/840 [==============================] - 4s 5ms/step - loss: 0.0087 - accuracy: 0.9977 - val_loss: 0.3250 - val_accuracy: 0.9479\n",
            "Epoch 23/30\n",
            "840/840 [==============================] - 6s 7ms/step - loss: 0.0140 - accuracy: 0.9954 - val_loss: 0.1600 - val_accuracy: 0.9723\n",
            "Epoch 24/30\n",
            "840/840 [==============================] - 5s 6ms/step - loss: 0.0026 - accuracy: 0.9993 - val_loss: 0.1537 - val_accuracy: 0.9749\n",
            "Epoch 25/30\n",
            "840/840 [==============================] - 5s 6ms/step - loss: 3.2347e-04 - accuracy: 1.0000 - val_loss: 0.1579 - val_accuracy: 0.9746\n",
            "Epoch 26/30\n",
            "840/840 [==============================] - 6s 7ms/step - loss: 1.3685e-04 - accuracy: 1.0000 - val_loss: 0.1557 - val_accuracy: 0.9750\n",
            "Epoch 27/30\n",
            "840/840 [==============================] - 4s 5ms/step - loss: 9.2552e-05 - accuracy: 1.0000 - val_loss: 0.1569 - val_accuracy: 0.9754\n",
            "Epoch 28/30\n",
            "840/840 [==============================] - 6s 7ms/step - loss: 7.0938e-05 - accuracy: 1.0000 - val_loss: 0.1595 - val_accuracy: 0.9750\n",
            "Epoch 29/30\n",
            "840/840 [==============================] - 4s 5ms/step - loss: 5.5645e-05 - accuracy: 1.0000 - val_loss: 0.1615 - val_accuracy: 0.9749\n",
            "Epoch 30/30\n",
            "840/840 [==============================] - 4s 5ms/step - loss: 4.3497e-05 - accuracy: 1.0000 - val_loss: 0.1644 - val_accuracy: 0.9743\n",
            "Script run time: 0:02:24.948058\n"
          ]
        }
      ]
    },
    {
      "cell_type": "code",
      "source": [
        "#Evaluate on train set\n",
        "\n",
        "model_300a.evaluate(X_train, y_train)"
      ],
      "metadata": {
        "id": "HK1F7kM8oKy0"
      },
      "execution_count": null,
      "outputs": []
    },
    {
      "cell_type": "code",
      "source": [
        "#Evaluate on test set\n",
        "\n",
        "model_300a.evaluate(X_test, y_testa)"
      ],
      "metadata": {
        "id": "3I0ZuZiuoK1j"
      },
      "execution_count": null,
      "outputs": []
    },
    {
      "cell_type": "code",
      "source": [
        "#PREDICTIONS\n",
        "\n",
        "probability_model_300a = tf.keras.Sequential([model_300a, tf.keras.layers.Softmax()])"
      ],
      "metadata": {
        "id": "Cn7By0YUoK40"
      },
      "execution_count": 24,
      "outputs": []
    },
    {
      "cell_type": "code",
      "source": [
        "#GETTING CLASS PREDICTIONS WITH ARGMAX\n",
        "\n",
        "pred_300a = probability_model_300a.predict(X_test)\n",
        "\n",
        "\n",
        "classes_300a = np.argmax(pred_300a, axis = 1)"
      ],
      "metadata": {
        "id": "sQwsJ00BoO6r"
      },
      "execution_count": 25,
      "outputs": []
    },
    {
      "cell_type": "code",
      "source": [
        "classes_300a[:5]"
      ],
      "metadata": {
        "colab": {
          "base_uri": "https://localhost:8080/"
        },
        "id": "JpBN2W_OoO9L",
        "outputId": "b08d7514-e5e2-4d5f-9310-8225becc8f80"
      },
      "execution_count": 26,
      "outputs": [
        {
          "output_type": "execute_result",
          "data": {
            "text/plain": [
              "array([7, 3, 9, 8, 6])"
            ]
          },
          "metadata": {},
          "execution_count": 26
        }
      ]
    },
    {
      "cell_type": "code",
      "source": [
        "#multiclass confusion matrix  300a\n",
        "cm300a = confusion_matrix(y_testa, classes_300a)"
      ],
      "metadata": {
        "id": "VGlQtmdioO_0"
      },
      "execution_count": 27,
      "outputs": []
    },
    {
      "cell_type": "code",
      "source": [
        "#create data frame for multi-class confusion matrix 300a\n",
        "\n",
        "cm300a_df = pd.DataFrame(cm300a, index = [0,1,2,3,4,5,6,7,8,9], columns = [0,1,2,3,4,5,6,7,8,9])\n",
        "print(cm300a_df)"
      ],
      "metadata": {
        "colab": {
          "base_uri": "https://localhost:8080/"
        },
        "id": "FEAcWYemoY0T",
        "outputId": "de2648c7-6476-4ad3-d448-dea91ab08ee2"
      },
      "execution_count": 28,
      "outputs": [
        {
          "output_type": "stream",
          "name": "stdout",
          "text": [
            "     0    1    2    3    4    5    6    7    8    9\n",
            "0  787    0    1    1    1    0    2    0    3    1\n",
            "1    0  937    1    2    2    0    0    3    1    0\n",
            "2    3    2  839    2    4    0    0    3    2    1\n",
            "3    2    0    4  834    0    7    0    1    6    2\n",
            "4    1    1    2    0  819    0    1    0    1    1\n",
            "5    0    0    3    6    0  753    4    1    4    2\n",
            "6    3    2    0    0    2    2  778    0    0    0\n",
            "7    2    2    6    2    1    3    0  851    0    2\n",
            "8    2    9    3    6    3    1    3    2  805    2\n",
            "9    0    0    1    4    4    3    0    6    1  836\n"
          ]
        }
      ]
    },
    {
      "cell_type": "code",
      "source": [
        "#LOOK AT CLASSIFICATION REPORT\n",
        "\n",
        "print(classification_report(y_testa, classes_300a))"
      ],
      "metadata": {
        "id": "f0T0NkdsoY3L"
      },
      "execution_count": null,
      "outputs": []
    },
    {
      "cell_type": "markdown",
      "source": [
        "# Model 3: 2 layers/100 nodes"
      ],
      "metadata": {
        "id": "DwMIgrt-oso0"
      }
    },
    {
      "cell_type": "code",
      "source": [
        "model_1002b = tf.keras.Sequential([\n",
        "    tf.keras.layers.Flatten(input_shape=X_train.shape[1:]),\n",
        "    tf.keras.layers.Dense(100, activation='relu'),\n",
        "    tf.keras.layers.Dense(100, activation='relu'),\n",
        "    tf.keras.layers.Dense(10, activation = \"softmax\")\n",
        "])"
      ],
      "metadata": {
        "id": "7sV0NycHonPM"
      },
      "execution_count": 29,
      "outputs": []
    },
    {
      "cell_type": "code",
      "source": [
        "model_1002b.compile(optimizer='adam',\n",
        "              loss=tf.keras.losses.SparseCategoricalCrossentropy(from_logits=False),\n",
        "              metrics=['accuracy'])"
      ],
      "metadata": {
        "id": "ULrsMF2WonRz"
      },
      "execution_count": 30,
      "outputs": []
    },
    {
      "cell_type": "code",
      "source": [
        "start = datetime.now()\n",
        "\n",
        "model_1002b.fit(X_train, y_train, epochs = 30, \n",
        "          validation_data = (X_valid, y_valid))\n",
        "\n",
        "end = datetime.now()\n",
        "print(\"Script run time:\", end-start)"
      ],
      "metadata": {
        "colab": {
          "base_uri": "https://localhost:8080/"
        },
        "id": "dZXOrgAYoy4a",
        "outputId": "811e3c5e-154c-475a-ccb8-3e499c1c7b3b"
      },
      "execution_count": 31,
      "outputs": [
        {
          "output_type": "stream",
          "name": "stdout",
          "text": [
            "Epoch 1/30\n",
            "840/840 [==============================] - 4s 4ms/step - loss: 0.3413 - accuracy: 0.8982 - val_loss: 0.1961 - val_accuracy: 0.9418\n",
            "Epoch 2/30\n",
            "840/840 [==============================] - 4s 4ms/step - loss: 0.1459 - accuracy: 0.9568 - val_loss: 0.1456 - val_accuracy: 0.9589\n",
            "Epoch 3/30\n",
            "840/840 [==============================] - 5s 6ms/step - loss: 0.1016 - accuracy: 0.9685 - val_loss: 0.1377 - val_accuracy: 0.9604\n",
            "Epoch 4/30\n",
            "840/840 [==============================] - 4s 5ms/step - loss: 0.0741 - accuracy: 0.9774 - val_loss: 0.1302 - val_accuracy: 0.9632\n",
            "Epoch 5/30\n",
            "840/840 [==============================] - 3s 3ms/step - loss: 0.0537 - accuracy: 0.9829 - val_loss: 0.1251 - val_accuracy: 0.9656\n",
            "Epoch 6/30\n",
            "840/840 [==============================] - 4s 4ms/step - loss: 0.0417 - accuracy: 0.9873 - val_loss: 0.1384 - val_accuracy: 0.9634\n",
            "Epoch 7/30\n",
            "840/840 [==============================] - 5s 5ms/step - loss: 0.0335 - accuracy: 0.9889 - val_loss: 0.1474 - val_accuracy: 0.9655\n",
            "Epoch 8/30\n",
            "840/840 [==============================] - 5s 6ms/step - loss: 0.0293 - accuracy: 0.9904 - val_loss: 0.1445 - val_accuracy: 0.9661\n",
            "Epoch 9/30\n",
            "840/840 [==============================] - 3s 4ms/step - loss: 0.0241 - accuracy: 0.9917 - val_loss: 0.1517 - val_accuracy: 0.9659\n",
            "Epoch 10/30\n",
            "840/840 [==============================] - 3s 3ms/step - loss: 0.0225 - accuracy: 0.9925 - val_loss: 0.1633 - val_accuracy: 0.9632\n",
            "Epoch 11/30\n",
            "840/840 [==============================] - 3s 3ms/step - loss: 0.0197 - accuracy: 0.9933 - val_loss: 0.1900 - val_accuracy: 0.9600\n",
            "Epoch 12/30\n",
            "840/840 [==============================] - 5s 5ms/step - loss: 0.0165 - accuracy: 0.9942 - val_loss: 0.1670 - val_accuracy: 0.9658\n",
            "Epoch 13/30\n",
            "840/840 [==============================] - 3s 3ms/step - loss: 0.0141 - accuracy: 0.9953 - val_loss: 0.2051 - val_accuracy: 0.9612\n",
            "Epoch 14/30\n",
            "840/840 [==============================] - 4s 4ms/step - loss: 0.0136 - accuracy: 0.9952 - val_loss: 0.1718 - val_accuracy: 0.9699\n",
            "Epoch 15/30\n",
            "840/840 [==============================] - 4s 5ms/step - loss: 0.0188 - accuracy: 0.9939 - val_loss: 0.1898 - val_accuracy: 0.9676\n",
            "Epoch 16/30\n",
            "840/840 [==============================] - 7s 8ms/step - loss: 0.0077 - accuracy: 0.9976 - val_loss: 0.1802 - val_accuracy: 0.9673\n",
            "Epoch 17/30\n",
            "840/840 [==============================] - 5s 6ms/step - loss: 0.0105 - accuracy: 0.9967 - val_loss: 0.1919 - val_accuracy: 0.9671\n",
            "Epoch 18/30\n",
            "840/840 [==============================] - 4s 5ms/step - loss: 0.0113 - accuracy: 0.9960 - val_loss: 0.2171 - val_accuracy: 0.9612\n",
            "Epoch 19/30\n",
            "840/840 [==============================] - 3s 3ms/step - loss: 0.0133 - accuracy: 0.9952 - val_loss: 0.1993 - val_accuracy: 0.9674\n",
            "Epoch 20/30\n",
            "840/840 [==============================] - 4s 4ms/step - loss: 0.0060 - accuracy: 0.9982 - val_loss: 0.1844 - val_accuracy: 0.9716\n",
            "Epoch 21/30\n",
            "840/840 [==============================] - 4s 5ms/step - loss: 0.0119 - accuracy: 0.9963 - val_loss: 0.1978 - val_accuracy: 0.9653\n",
            "Epoch 22/30\n",
            "840/840 [==============================] - 3s 3ms/step - loss: 0.0102 - accuracy: 0.9972 - val_loss: 0.1976 - val_accuracy: 0.9685\n",
            "Epoch 23/30\n",
            "840/840 [==============================] - 4s 5ms/step - loss: 0.0073 - accuracy: 0.9976 - val_loss: 0.2076 - val_accuracy: 0.9676\n",
            "Epoch 24/30\n",
            "840/840 [==============================] - 5s 5ms/step - loss: 0.0139 - accuracy: 0.9957 - val_loss: 0.1956 - val_accuracy: 0.9676\n",
            "Epoch 25/30\n",
            "840/840 [==============================] - 4s 5ms/step - loss: 0.0026 - accuracy: 0.9993 - val_loss: 0.1998 - val_accuracy: 0.9693\n",
            "Epoch 26/30\n",
            "840/840 [==============================] - 5s 5ms/step - loss: 0.0119 - accuracy: 0.9967 - val_loss: 0.2267 - val_accuracy: 0.9668\n",
            "Epoch 27/30\n",
            "840/840 [==============================] - 4s 5ms/step - loss: 0.0074 - accuracy: 0.9975 - val_loss: 0.2044 - val_accuracy: 0.9695\n",
            "Epoch 28/30\n",
            "840/840 [==============================] - 4s 4ms/step - loss: 0.0070 - accuracy: 0.9978 - val_loss: 0.2505 - val_accuracy: 0.9658\n",
            "Epoch 29/30\n",
            "840/840 [==============================] - 5s 5ms/step - loss: 0.0092 - accuracy: 0.9973 - val_loss: 0.2356 - val_accuracy: 0.9673\n",
            "Epoch 30/30\n",
            "840/840 [==============================] - 3s 4ms/step - loss: 0.0078 - accuracy: 0.9975 - val_loss: 0.2571 - val_accuracy: 0.9661\n",
            "Script run time: 0:01:59.427144\n"
          ]
        }
      ]
    },
    {
      "cell_type": "code",
      "source": [
        "#Evaluate on train set\n",
        "\n",
        "model_1002b.evaluate(X_train, y_train)"
      ],
      "metadata": {
        "id": "FYPe9BQ8oy62"
      },
      "execution_count": null,
      "outputs": []
    },
    {
      "cell_type": "code",
      "source": [
        "#Evaluate on test set\n",
        "\n",
        "model_1002b.evaluate(X_test, y_testa)"
      ],
      "metadata": {
        "id": "I8A32Xd1o2lk"
      },
      "execution_count": null,
      "outputs": []
    },
    {
      "cell_type": "code",
      "source": [
        "#PREDICTIONS\n",
        "\n",
        "probability_model_1002b = tf.keras.Sequential([model_1002b, tf.keras.layers.Softmax()])"
      ],
      "metadata": {
        "id": "ALIfOinXo2oO"
      },
      "execution_count": 32,
      "outputs": []
    },
    {
      "cell_type": "code",
      "source": [
        "#GETTING CLASS PREDICTIONS WITH ARGMAX\n",
        "\n",
        "pred_1002b = probability_model_1002b.predict(X_test)\n",
        "\n",
        "classes_1002b = np.argmax(pred_1002b, axis = 1)"
      ],
      "metadata": {
        "id": "42C8021uonUk"
      },
      "execution_count": 33,
      "outputs": []
    },
    {
      "cell_type": "code",
      "source": [
        "classes_1002b[:5]"
      ],
      "metadata": {
        "colab": {
          "base_uri": "https://localhost:8080/"
        },
        "id": "wE8isjTDo9VM",
        "outputId": "ab8b5f58-15c8-4444-cbe3-67f67000b3bf"
      },
      "execution_count": 34,
      "outputs": [
        {
          "output_type": "execute_result",
          "data": {
            "text/plain": [
              "array([7, 3, 9, 8, 6])"
            ]
          },
          "metadata": {},
          "execution_count": 34
        }
      ]
    },
    {
      "cell_type": "code",
      "source": [
        "#multiclass confusion matrix 1002b\n",
        "cm1002b = confusion_matrix(y_testa, classes_1002b)"
      ],
      "metadata": {
        "id": "LJ0p2xEJo9YA"
      },
      "execution_count": 35,
      "outputs": []
    },
    {
      "cell_type": "code",
      "source": [
        "#create data frame for multi-class confusion matrix 1002b\n",
        "\n",
        "cm1002b_df = pd.DataFrame(cm1002b, index = [0,1,2,3,4,5,6,7,8,9], columns = [0,1,2,3,4,5,6,7,8,9])\n",
        "print(cm1002b_df)"
      ],
      "metadata": {
        "colab": {
          "base_uri": "https://localhost:8080/"
        },
        "id": "TiIhrbr7ppSO",
        "outputId": "f8f5669d-ef90-4386-9eb4-a7300f14f8b5"
      },
      "execution_count": 36,
      "outputs": [
        {
          "output_type": "stream",
          "name": "stdout",
          "text": [
            "     0    1    2    3    4    5    6    7    8    9\n",
            "0  777    1    4    1    1    0    7    0    3    2\n",
            "1    0  926   10    1    1    0    0    4    4    0\n",
            "2    3    1  838    0    2    0    3    4    2    3\n",
            "3    2    0   10  825    0   10    1    1    5    2\n",
            "4    1    1    6    0  801    0    3    1    1   12\n",
            "5    1    1    1   11    0  744    7    1    6    1\n",
            "6    4    0    1    0    2    0  779    0    1    0\n",
            "7    1    1   13    4    1    3    0  830    3   13\n",
            "8    2    5   17    5    1    5    6    4  778   13\n",
            "9    0    0    1    6    2    2    0    3    2  839\n"
          ]
        }
      ]
    },
    {
      "cell_type": "code",
      "source": [
        "#LOOK AT CLASSIFICATION REPORT\n",
        "\n",
        "print(classification_report(y_testa, classes_1002b))"
      ],
      "metadata": {
        "id": "wb66CiZdppV8"
      },
      "execution_count": null,
      "outputs": []
    },
    {
      "cell_type": "code",
      "source": [
        ""
      ],
      "metadata": {
        "id": "iQ3nzgofpzjd"
      },
      "execution_count": null,
      "outputs": []
    },
    {
      "cell_type": "markdown",
      "source": [
        "# Model 4: 2 layers/300 nodes"
      ],
      "metadata": {
        "id": "JTaraXQupz9T"
      }
    },
    {
      "cell_type": "code",
      "source": [
        "model_3002b = tf.keras.Sequential([\n",
        "    tf.keras.layers.Flatten(input_shape=X_train.shape[1:]),\n",
        "    tf.keras.layers.Dense(300, activation='relu'),\n",
        "    tf.keras.layers.Dense(300, activation='relu'),\n",
        "    tf.keras.layers.Dense(10, activation = \"softmax\")\n",
        "])"
      ],
      "metadata": {
        "id": "5FspOTONp3MM"
      },
      "execution_count": 37,
      "outputs": []
    },
    {
      "cell_type": "code",
      "source": [
        "model_3002b.compile(optimizer='adam',\n",
        "              loss=tf.keras.losses.SparseCategoricalCrossentropy(from_logits=False),\n",
        "              metrics=['accuracy'])"
      ],
      "metadata": {
        "id": "yn5KLdemp3O7"
      },
      "execution_count": 38,
      "outputs": []
    },
    {
      "cell_type": "code",
      "source": [
        "start = datetime.now()\n",
        "\n",
        "model_3002b.fit(X_train, y_train, epochs = 30, \n",
        "          validation_data = (X_valid, y_valid))\n",
        "\n",
        "end = datetime.now()\n",
        "print(\"Script run time:\", end-start)"
      ],
      "metadata": {
        "colab": {
          "base_uri": "https://localhost:8080/"
        },
        "id": "3xC52XHrp3TP",
        "outputId": "a02e9a51-7493-4aad-f180-f2b7c083c2ef"
      },
      "execution_count": 39,
      "outputs": [
        {
          "output_type": "stream",
          "name": "stdout",
          "text": [
            "Epoch 1/30\n",
            "840/840 [==============================] - 6s 7ms/step - loss: 0.2671 - accuracy: 0.9187 - val_loss: 0.1706 - val_accuracy: 0.9499\n",
            "Epoch 2/30\n",
            "840/840 [==============================] - 5s 6ms/step - loss: 0.1058 - accuracy: 0.9670 - val_loss: 0.1282 - val_accuracy: 0.9638\n",
            "Epoch 3/30\n",
            "840/840 [==============================] - 8s 10ms/step - loss: 0.0673 - accuracy: 0.9781 - val_loss: 0.1187 - val_accuracy: 0.9676\n",
            "Epoch 4/30\n",
            "840/840 [==============================] - 7s 9ms/step - loss: 0.0487 - accuracy: 0.9848 - val_loss: 0.1280 - val_accuracy: 0.9667\n",
            "Epoch 5/30\n",
            "840/840 [==============================] - 7s 9ms/step - loss: 0.0359 - accuracy: 0.9881 - val_loss: 0.1356 - val_accuracy: 0.9667\n",
            "Epoch 6/30\n",
            "840/840 [==============================] - 7s 9ms/step - loss: 0.0329 - accuracy: 0.9891 - val_loss: 0.1341 - val_accuracy: 0.9701\n",
            "Epoch 7/30\n",
            "840/840 [==============================] - 5s 6ms/step - loss: 0.0265 - accuracy: 0.9912 - val_loss: 0.1529 - val_accuracy: 0.9649\n",
            "Epoch 8/30\n",
            "840/840 [==============================] - 5s 6ms/step - loss: 0.0244 - accuracy: 0.9916 - val_loss: 0.1610 - val_accuracy: 0.9655\n",
            "Epoch 9/30\n",
            "840/840 [==============================] - 5s 6ms/step - loss: 0.0201 - accuracy: 0.9936 - val_loss: 0.1453 - val_accuracy: 0.9725\n",
            "Epoch 10/30\n",
            "840/840 [==============================] - 5s 6ms/step - loss: 0.0149 - accuracy: 0.9953 - val_loss: 0.1556 - val_accuracy: 0.9701\n",
            "Epoch 11/30\n",
            "840/840 [==============================] - 5s 6ms/step - loss: 0.0199 - accuracy: 0.9935 - val_loss: 0.1554 - val_accuracy: 0.9710\n",
            "Epoch 12/30\n",
            "840/840 [==============================] - 5s 6ms/step - loss: 0.0169 - accuracy: 0.9942 - val_loss: 0.1513 - val_accuracy: 0.9749\n",
            "Epoch 13/30\n",
            "840/840 [==============================] - 5s 6ms/step - loss: 0.0115 - accuracy: 0.9964 - val_loss: 0.1658 - val_accuracy: 0.9731\n",
            "Epoch 14/30\n",
            "840/840 [==============================] - 5s 6ms/step - loss: 0.0172 - accuracy: 0.9943 - val_loss: 0.1686 - val_accuracy: 0.9728\n",
            "Epoch 15/30\n",
            "840/840 [==============================] - 5s 6ms/step - loss: 0.0155 - accuracy: 0.9958 - val_loss: 0.1684 - val_accuracy: 0.9714\n",
            "Epoch 16/30\n",
            "840/840 [==============================] - 5s 6ms/step - loss: 0.0132 - accuracy: 0.9957 - val_loss: 0.1768 - val_accuracy: 0.9701\n",
            "Epoch 17/30\n",
            "840/840 [==============================] - 5s 6ms/step - loss: 0.0095 - accuracy: 0.9971 - val_loss: 0.1687 - val_accuracy: 0.9738\n",
            "Epoch 18/30\n",
            "840/840 [==============================] - 5s 6ms/step - loss: 0.0038 - accuracy: 0.9991 - val_loss: 0.1963 - val_accuracy: 0.9710\n",
            "Epoch 19/30\n",
            "840/840 [==============================] - 6s 7ms/step - loss: 0.0184 - accuracy: 0.9951 - val_loss: 0.1923 - val_accuracy: 0.9720\n",
            "Epoch 20/30\n",
            "840/840 [==============================] - 5s 6ms/step - loss: 0.0131 - accuracy: 0.9967 - val_loss: 0.2012 - val_accuracy: 0.9699\n",
            "Epoch 21/30\n",
            "840/840 [==============================] - 5s 6ms/step - loss: 0.0045 - accuracy: 0.9985 - val_loss: 0.2142 - val_accuracy: 0.9699\n",
            "Epoch 22/30\n",
            "840/840 [==============================] - 5s 6ms/step - loss: 0.0106 - accuracy: 0.9967 - val_loss: 0.2223 - val_accuracy: 0.9689\n",
            "Epoch 23/30\n",
            "840/840 [==============================] - 5s 6ms/step - loss: 0.0179 - accuracy: 0.9952 - val_loss: 0.1855 - val_accuracy: 0.9738\n",
            "Epoch 24/30\n",
            "840/840 [==============================] - 5s 6ms/step - loss: 0.0063 - accuracy: 0.9981 - val_loss: 0.1922 - val_accuracy: 0.9751\n",
            "Epoch 25/30\n",
            "840/840 [==============================] - 5s 6ms/step - loss: 0.0045 - accuracy: 0.9984 - val_loss: 0.2124 - val_accuracy: 0.9722\n",
            "Epoch 26/30\n",
            "840/840 [==============================] - 5s 6ms/step - loss: 0.0158 - accuracy: 0.9957 - val_loss: 0.2142 - val_accuracy: 0.9738\n",
            "Epoch 27/30\n",
            "840/840 [==============================] - 5s 6ms/step - loss: 0.0082 - accuracy: 0.9975 - val_loss: 0.2060 - val_accuracy: 0.9749\n",
            "Epoch 28/30\n",
            "840/840 [==============================] - 5s 6ms/step - loss: 0.0039 - accuracy: 0.9990 - val_loss: 0.2262 - val_accuracy: 0.9740\n",
            "Epoch 29/30\n",
            "840/840 [==============================] - 5s 6ms/step - loss: 0.0129 - accuracy: 0.9964 - val_loss: 0.2527 - val_accuracy: 0.9699\n",
            "Epoch 30/30\n",
            "840/840 [==============================] - 5s 6ms/step - loss: 0.0071 - accuracy: 0.9982 - val_loss: 0.2109 - val_accuracy: 0.9750\n",
            "Script run time: 0:02:41.495750\n"
          ]
        }
      ]
    },
    {
      "cell_type": "code",
      "source": [
        "#Evaluate on train set\n",
        "\n",
        "model_3002b.evaluate(X_train, y_train)"
      ],
      "metadata": {
        "colab": {
          "base_uri": "https://localhost:8080/"
        },
        "id": "ubEZQGHsp8Gc",
        "outputId": "f3d599b1-0b04-440d-a897-dbf283b5b8f8"
      },
      "execution_count": 52,
      "outputs": [
        {
          "output_type": "stream",
          "name": "stdout",
          "text": [
            "840/840 [==============================] - 2s 2ms/step - loss: 0.0033 - accuracy: 0.9988\n"
          ]
        },
        {
          "output_type": "execute_result",
          "data": {
            "text/plain": [
              "[0.003275353228673339, 0.998846709728241]"
            ]
          },
          "metadata": {},
          "execution_count": 52
        }
      ]
    },
    {
      "cell_type": "code",
      "source": [
        "#Evaluate on test set\n",
        "\n",
        "model_3002b.evaluate(X_test, y_testa)"
      ],
      "metadata": {
        "colab": {
          "base_uri": "https://localhost:8080/"
        },
        "id": "KWfNpe9Cp8JM",
        "outputId": "c23eb4fb-506a-441a-ee88-ffd65a400e44"
      },
      "execution_count": 53,
      "outputs": [
        {
          "output_type": "stream",
          "name": "stdout",
          "text": [
            "263/263 [==============================] - 1s 3ms/step - loss: 0.1682 - accuracy: 0.9760\n"
          ]
        },
        {
          "output_type": "execute_result",
          "data": {
            "text/plain": [
              "[0.16817156970500946, 0.9759523868560791]"
            ]
          },
          "metadata": {},
          "execution_count": 53
        }
      ]
    },
    {
      "cell_type": "code",
      "source": [
        "#PREDICTIONS\n",
        "\n",
        "probability_model_3002b = tf.keras.Sequential([model_3002b, tf.keras.layers.Softmax()])"
      ],
      "metadata": {
        "id": "yWyu0ZREp8L2"
      },
      "execution_count": 40,
      "outputs": []
    },
    {
      "cell_type": "code",
      "source": [
        "#GETTING CLASS PREDICTIONS WITH ARGMAX\n",
        "\n",
        "pred_3002b = probability_model_3002b.predict(X_test)\n",
        "\n",
        "classes_3002b = np.argmax(pred_3002b, axis = 1)"
      ],
      "metadata": {
        "id": "Y5Bf492wqDhF"
      },
      "execution_count": 41,
      "outputs": []
    },
    {
      "cell_type": "code",
      "source": [
        "classes_3002b[:5]"
      ],
      "metadata": {
        "colab": {
          "base_uri": "https://localhost:8080/"
        },
        "id": "Fi6nOdwlqDko",
        "outputId": "34f60da8-522b-45c7-c1c2-d0f786f46e4f"
      },
      "execution_count": 42,
      "outputs": [
        {
          "output_type": "execute_result",
          "data": {
            "text/plain": [
              "array([7, 3, 9, 8, 6])"
            ]
          },
          "metadata": {},
          "execution_count": 42
        }
      ]
    },
    {
      "cell_type": "code",
      "source": [
        "#multiclass confusion matrix 300 2b\n",
        "cm3002b = confusion_matrix(y_testa, classes_3002b)"
      ],
      "metadata": {
        "id": "8_kNBqdetUJV"
      },
      "execution_count": 43,
      "outputs": []
    },
    {
      "cell_type": "code",
      "source": [
        "#create data frame for multi-class confusion matrix 3002b\n",
        "\n",
        "cm3002b_df = pd.DataFrame(cm3002b, index = [0,1,2,3,4,5,6,7,8,9], columns = [0,1,2,3,4,5,6,7,8,9])\n",
        "print(cm3002b_df)"
      ],
      "metadata": {
        "colab": {
          "base_uri": "https://localhost:8080/"
        },
        "id": "UuO0TRDitUME",
        "outputId": "d981ff09-9bde-403c-8bd5-1ee3f3996e7e"
      },
      "execution_count": 44,
      "outputs": [
        {
          "output_type": "stream",
          "name": "stdout",
          "text": [
            "     0    1    2    3    4    5    6    7    8    9\n",
            "0  784    1    1    1    0    0    4    0    3    2\n",
            "1    0  936    4    0    2    0    0    3    1    0\n",
            "2    1    2  837    1    5    0    1    5    3    1\n",
            "3    2    0    5  827    1   14    0    1    5    1\n",
            "4    0    2    1    0  817    1    3    0    0    2\n",
            "5    0    0    2    2    0  760    5    0    3    1\n",
            "6    3    1    0    0    2    3  778    0    0    0\n",
            "7    1    1   13    2    3    2    1  842    1    3\n",
            "8    1    9    3    3    4    4    6    1  804    1\n",
            "9    0    0    2    5   19    9    0    5    2  813\n"
          ]
        }
      ]
    },
    {
      "cell_type": "code",
      "source": [
        "#LOOK AT CLASSIFICATION REPORT\n",
        "\n",
        "print(classification_report(y_testa, classes_3002b))"
      ],
      "metadata": {
        "colab": {
          "base_uri": "https://localhost:8080/"
        },
        "id": "nOoO4T5GtUQd",
        "outputId": "f6e97484-f3d1-4583-d223-c4c98ec29764"
      },
      "execution_count": 54,
      "outputs": [
        {
          "output_type": "stream",
          "name": "stdout",
          "text": [
            "              precision    recall  f1-score   support\n",
            "\n",
            "           0       0.99      0.98      0.99       796\n",
            "           1       0.98      0.99      0.99       946\n",
            "           2       0.96      0.98      0.97       856\n",
            "           3       0.98      0.97      0.97       856\n",
            "           4       0.96      0.99      0.97       826\n",
            "           5       0.96      0.98      0.97       773\n",
            "           6       0.97      0.99      0.98       787\n",
            "           7       0.98      0.97      0.98       869\n",
            "           8       0.98      0.96      0.97       836\n",
            "           9       0.99      0.95      0.97       855\n",
            "\n",
            "    accuracy                           0.98      8400\n",
            "   macro avg       0.98      0.98      0.98      8400\n",
            "weighted avg       0.98      0.98      0.98      8400\n",
            "\n"
          ]
        }
      ]
    },
    {
      "cell_type": "markdown",
      "source": [
        "# Model 5: 2 layers/300 nodes/ 20% dropout"
      ],
      "metadata": {
        "id": "k7QNTU_3uT59"
      }
    },
    {
      "cell_type": "code",
      "source": [
        "dropout_model2 = tf.keras.Sequential([\n",
        "    tf.keras.layers.Flatten(input_shape=X_train.shape[1:]),\n",
        "    tf.keras.layers.Dense(300, activation='relu'),\n",
        "    tf.keras.layers.Dropout(0.2),\n",
        "    tf.keras.layers.Dense(300, activation='relu'),\n",
        "    tf.keras.layers.Dropout(0.2),\n",
        "    tf.keras.layers.Dense(10, activation='softmax'),\n",
        "])"
      ],
      "metadata": {
        "id": "KXxVkr-ouYf9"
      },
      "execution_count": 45,
      "outputs": []
    },
    {
      "cell_type": "code",
      "source": [
        "dropout_model2.compile(optimizer='adam',\n",
        "              loss=tf.keras.losses.SparseCategoricalCrossentropy(from_logits=False),\n",
        "              metrics=['accuracy'])"
      ],
      "metadata": {
        "id": "UgNgXBntubuf"
      },
      "execution_count": 46,
      "outputs": []
    },
    {
      "cell_type": "code",
      "source": [
        "start = datetime.now()\n",
        "\n",
        "dropout_model2.fit(X_train, y_train, epochs = 30, \n",
        "          validation_data = (X_valid, y_valid))\n",
        "\n",
        "end = datetime.now()\n",
        "print(\"Script run time:\", end-start)"
      ],
      "metadata": {
        "colab": {
          "base_uri": "https://localhost:8080/"
        },
        "id": "5Ap03Veaubx7",
        "outputId": "2ce39c6f-dd12-445d-e5ff-4753718711bd"
      },
      "execution_count": 47,
      "outputs": [
        {
          "output_type": "stream",
          "name": "stdout",
          "text": [
            "Epoch 1/30\n",
            "840/840 [==============================] - 6s 6ms/step - loss: 0.3288 - accuracy: 0.8991 - val_loss: 0.1716 - val_accuracy: 0.9470\n",
            "Epoch 2/30\n",
            "840/840 [==============================] - 5s 6ms/step - loss: 0.1406 - accuracy: 0.9561 - val_loss: 0.1484 - val_accuracy: 0.9555\n",
            "Epoch 3/30\n",
            "840/840 [==============================] - 7s 8ms/step - loss: 0.1052 - accuracy: 0.9661 - val_loss: 0.1277 - val_accuracy: 0.9634\n",
            "Epoch 4/30\n",
            "840/840 [==============================] - 9s 11ms/step - loss: 0.0799 - accuracy: 0.9733 - val_loss: 0.1243 - val_accuracy: 0.9650\n",
            "Epoch 5/30\n",
            "840/840 [==============================] - 6s 7ms/step - loss: 0.0667 - accuracy: 0.9797 - val_loss: 0.1131 - val_accuracy: 0.9674\n",
            "Epoch 6/30\n",
            "840/840 [==============================] - 8s 9ms/step - loss: 0.0600 - accuracy: 0.9813 - val_loss: 0.1266 - val_accuracy: 0.9665\n",
            "Epoch 7/30\n",
            "840/840 [==============================] - 8s 9ms/step - loss: 0.0536 - accuracy: 0.9827 - val_loss: 0.1209 - val_accuracy: 0.9704\n",
            "Epoch 8/30\n",
            "840/840 [==============================] - 8s 9ms/step - loss: 0.0451 - accuracy: 0.9847 - val_loss: 0.1204 - val_accuracy: 0.9720\n",
            "Epoch 9/30\n",
            "840/840 [==============================] - 5s 6ms/step - loss: 0.0412 - accuracy: 0.9866 - val_loss: 0.1253 - val_accuracy: 0.9714\n",
            "Epoch 10/30\n",
            "840/840 [==============================] - 5s 6ms/step - loss: 0.0392 - accuracy: 0.9875 - val_loss: 0.1247 - val_accuracy: 0.9711\n",
            "Epoch 11/30\n",
            "840/840 [==============================] - 8s 9ms/step - loss: 0.0378 - accuracy: 0.9877 - val_loss: 0.1439 - val_accuracy: 0.9705\n",
            "Epoch 12/30\n",
            "840/840 [==============================] - 7s 8ms/step - loss: 0.0309 - accuracy: 0.9896 - val_loss: 0.1310 - val_accuracy: 0.9749\n",
            "Epoch 13/30\n",
            "840/840 [==============================] - 6s 7ms/step - loss: 0.0342 - accuracy: 0.9886 - val_loss: 0.1338 - val_accuracy: 0.9713\n",
            "Epoch 14/30\n",
            "840/840 [==============================] - 5s 6ms/step - loss: 0.0323 - accuracy: 0.9901 - val_loss: 0.1453 - val_accuracy: 0.9698\n",
            "Epoch 15/30\n",
            "840/840 [==============================] - 5s 6ms/step - loss: 0.0322 - accuracy: 0.9898 - val_loss: 0.1384 - val_accuracy: 0.9711\n",
            "Epoch 16/30\n",
            "840/840 [==============================] - 5s 6ms/step - loss: 0.0271 - accuracy: 0.9912 - val_loss: 0.1315 - val_accuracy: 0.9732\n",
            "Epoch 17/30\n",
            "840/840 [==============================] - 6s 7ms/step - loss: 0.0257 - accuracy: 0.9916 - val_loss: 0.1448 - val_accuracy: 0.9738\n",
            "Epoch 18/30\n",
            "840/840 [==============================] - 7s 8ms/step - loss: 0.0243 - accuracy: 0.9923 - val_loss: 0.1601 - val_accuracy: 0.9707\n",
            "Epoch 19/30\n",
            "840/840 [==============================] - 5s 6ms/step - loss: 0.0243 - accuracy: 0.9926 - val_loss: 0.1789 - val_accuracy: 0.9674\n",
            "Epoch 20/30\n",
            "840/840 [==============================] - 5s 6ms/step - loss: 0.0259 - accuracy: 0.9918 - val_loss: 0.1542 - val_accuracy: 0.9735\n",
            "Epoch 21/30\n",
            "840/840 [==============================] - 5s 6ms/step - loss: 0.0211 - accuracy: 0.9935 - val_loss: 0.1452 - val_accuracy: 0.9743\n",
            "Epoch 22/30\n",
            "840/840 [==============================] - 7s 8ms/step - loss: 0.0229 - accuracy: 0.9930 - val_loss: 0.1603 - val_accuracy: 0.9743\n",
            "Epoch 23/30\n",
            "840/840 [==============================] - 8s 10ms/step - loss: 0.0195 - accuracy: 0.9935 - val_loss: 0.1782 - val_accuracy: 0.9719\n",
            "Epoch 24/30\n",
            "840/840 [==============================] - 5s 6ms/step - loss: 0.0233 - accuracy: 0.9927 - val_loss: 0.1529 - val_accuracy: 0.9740\n",
            "Epoch 25/30\n",
            "840/840 [==============================] - 5s 6ms/step - loss: 0.0189 - accuracy: 0.9937 - val_loss: 0.1954 - val_accuracy: 0.9726\n",
            "Epoch 26/30\n",
            "840/840 [==============================] - 5s 6ms/step - loss: 0.0239 - accuracy: 0.9930 - val_loss: 0.1528 - val_accuracy: 0.9763\n",
            "Epoch 27/30\n",
            "840/840 [==============================] - 6s 7ms/step - loss: 0.0252 - accuracy: 0.9930 - val_loss: 0.1569 - val_accuracy: 0.9734\n",
            "Epoch 28/30\n",
            "840/840 [==============================] - 5s 6ms/step - loss: 0.0138 - accuracy: 0.9954 - val_loss: 0.1411 - val_accuracy: 0.9756\n",
            "Epoch 29/30\n",
            "840/840 [==============================] - 5s 6ms/step - loss: 0.0213 - accuracy: 0.9934 - val_loss: 0.1493 - val_accuracy: 0.9744\n",
            "Epoch 30/30\n",
            "840/840 [==============================] - 5s 6ms/step - loss: 0.0213 - accuracy: 0.9933 - val_loss: 0.1666 - val_accuracy: 0.9746\n",
            "Script run time: 0:03:22.723779\n"
          ]
        }
      ]
    },
    {
      "cell_type": "code",
      "source": [
        "#Evaluate on train set\n",
        "\n",
        "dropout_model2.evaluate(X_train, y_train)"
      ],
      "metadata": {
        "id": "tvEpOQHLud4V"
      },
      "execution_count": null,
      "outputs": []
    },
    {
      "cell_type": "code",
      "source": [
        "#Evaluate on test set\n",
        "\n",
        "dropout_model2.evaluate(X_test, y_testa)"
      ],
      "metadata": {
        "id": "9U0QPOhRugC_"
      },
      "execution_count": null,
      "outputs": []
    },
    {
      "cell_type": "code",
      "source": [
        "#PREDICTIONS\n",
        "\n",
        "probability_model_drop2 = tf.keras.Sequential([dropout_model2, tf.keras.layers.Softmax()])"
      ],
      "metadata": {
        "id": "Xo4EFIItugGF"
      },
      "execution_count": 48,
      "outputs": []
    },
    {
      "cell_type": "code",
      "source": [
        "#GETTING CLASS PREDICTIONS WITH ARGMAX\n",
        "\n",
        "pred_drop2 = probability_model_drop2.predict(X_test)\n",
        "\n",
        "classes_drop2 = np.argmax(pred_drop2, axis = 1)"
      ],
      "metadata": {
        "id": "7xsjMIIquket"
      },
      "execution_count": 49,
      "outputs": []
    },
    {
      "cell_type": "code",
      "source": [
        "#multiclass confusion matrix with dropout 2\n",
        "\n",
        "cmdrop2 = confusion_matrix(y_testa, classes_drop2)"
      ],
      "metadata": {
        "id": "IWiwLuyXud7U"
      },
      "execution_count": 50,
      "outputs": []
    },
    {
      "cell_type": "code",
      "source": [
        "#create data frame for multi-class confusion matrix drop2\n",
        "\n",
        "cmdrop2_df = pd.DataFrame(cmdrop2, index = [0,1,2,3,4,5,6,7,8,9], columns = [0,1,2,3,4,5,6,7,8,9])\n",
        "print(cmdrop2_df)"
      ],
      "metadata": {
        "colab": {
          "base_uri": "https://localhost:8080/"
        },
        "id": "0d0uz7D8ud-k",
        "outputId": "9145173c-3c91-4289-ab08-5d40c4ca4277"
      },
      "execution_count": 51,
      "outputs": [
        {
          "output_type": "stream",
          "name": "stdout",
          "text": [
            "     0    1    2    3    4    5    6    7    8    9\n",
            "0  783    1    1    0    0    0    4    2    2    3\n",
            "1    0  937    0    2    2    0    0    1    4    0\n",
            "2    3    5  834    2    4    0    3    2    3    0\n",
            "3    0    0    9  830    0    9    0    1    3    4\n",
            "4    1    1    1    0  820    0    3    0    0    0\n",
            "5    2    0    1    3    0  749    6    2    9    1\n",
            "6    1    3    0    0    3    1  778    0    1    0\n",
            "7    2    2   16    1    2    2    0  842    0    2\n",
            "8    0    7    6    3    2    4    6    2  801    5\n",
            "9    1    0    0    2   10    2    0    6    2  832\n"
          ]
        }
      ]
    },
    {
      "cell_type": "code",
      "source": [
        "#LOOK AT CLASSIFICATION REPORT\n",
        "\n",
        "print(classification_report(y_testa, classes_drop2))"
      ],
      "metadata": {
        "id": "e7fAsOfKutDU"
      },
      "execution_count": null,
      "outputs": []
    },
    {
      "cell_type": "markdown",
      "source": [
        "# Conclusion"
      ],
      "metadata": {
        "id": "72DrB0Oxu4YN"
      }
    },
    {
      "cell_type": "markdown",
      "source": [
        "Model 2 with 1 layer/300 nodes achieved the highest testing accuracy (97.9%) and F1 score (0.98) performance. Applying dropout layers to the worst-performing model (Model 4) boosted performance to closely match Model 2, by producing a testing accuracy of 97.7% and F1 score of 0.98."
      ],
      "metadata": {
        "id": "uPDDdRuZu61v"
      }
    }
  ]
}